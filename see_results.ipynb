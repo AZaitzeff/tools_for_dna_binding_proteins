{
 "cells": [
  {
   "cell_type": "code",
   "execution_count": 2,
   "metadata": {},
   "outputs": [],
   "source": [
    "%matplotlib inline\n",
    "import matplotlib.pyplot as plt\n",
    "import seaborn as sns\n",
    "import numpy as np\n",
    "from sklearn.metrics import roc_auc_score, average_precision_score,roc_curve,precision_recall_curve\n",
    "import pandas as pd\n",
    "PATH_TO_RESULTS='results/'\n",
    "PATH_TO_CSV='data/'\n",
    "sns.set_theme()\n",
    "sns.set_style(\"whitegrid\")"
   ]
  },
  {
   "cell_type": "code",
   "execution_count": 7,
   "metadata": {},
   "outputs": [],
   "source": [
    "def MCC(predictions,Yt,thres=.5):\n",
    "    tp=np.sum((predictions>=thres)*Yt)\n",
    "    fp=np.sum((predictions>=thres)*(1-Yt))\n",
    "    tn=np.sum((predictions<thres)*(1-Yt))\n",
    "    fn=np.sum((predictions<thres)*Yt)\n",
    "    mcc=(tp*tn-fp*fn)/np.sqrt((tp+fp)*(tp+fn)*(tn+fp)*(tn+fn))\n",
    "    return mcc"
   ]
  },
  {
   "cell_type": "code",
   "execution_count": 4,
   "metadata": {},
   "outputs": [],
   "source": [
    "def ACC_MCC_AUC_AP(predictions,Yt,thres=.5):\n",
    "    mask= np.logical_not(np.isnan(predictions))\n",
    "    predictions=predictions[mask]\n",
    "    Yt=Yt[mask]\n",
    "    \n",
    "    mcc=round(MCC(predictions,Yt,thres),3)\n",
    "    acc=round(np.sum((predictions>=thres)==Yt)/len(Yt),3)\n",
    "    try:\n",
    "        roc_auc=round(roc_auc_score(Yt,predictions),3)\n",
    "    except:\n",
    "        roc_auc=0\n",
    "    try:\n",
    "        aver_precision_score=round(average_precision_score(Yt,predictions),3)\n",
    "    except:\n",
    "        aver_precision_score=0\n",
    "    return acc,mcc,roc_auc,aver_precision_score"
   ]
  },
  {
   "cell_type": "code",
   "execution_count": 5,
   "metadata": {},
   "outputs": [],
   "source": [
    "def best_cross_val(model='lstm',name='random',suffix='50_1000'):\n",
    "\n",
    "    if model=='bilstm':\n",
    "        num=3\n",
    "    else:\n",
    "        num=5\n",
    "\n",
    "    scores=np.zeros(num)\n",
    "    for n_i in range(num):\n",
    "        predictions=np.load(f'{PATH_TO_RESULTS}results_valid_{model}_orig_{name}_{suffix}_{n_i}.npy')\n",
    "        Yv=np.load(f'{PATH_TO_RESULTS}true_valid_{model}_orig_{name}_{suffix}_{n_i}.npy')\n",
    "        scores[n_i]=ACC_MCC_AUC_AP(predictions,Yv)[1]\n",
    "    return np.argmax(scores)"
   ]
  },
  {
   "cell_type": "code",
   "execution_count": null,
   "metadata": {},
   "outputs": [],
   "source": []
  },
  {
   "cell_type": "code",
   "execution_count": 11,
   "metadata": {},
   "outputs": [
    {
     "data": {
      "image/png": "[encoded data removed]",
      "text/plain": [
       "<Figure size 432x288 with 1 Axes>"
      ]
     },
     "metadata": {},
     "output_type": "display_data"
    }
   ],
   "source": [
    "models=['nn','lstm','bilstm','xgb']\n",
    "results=[]\n",
    "name=\"random\"\n",
    "suffix=\"full_1000\" # Figure 1: a) 'full_1000' b) '50' c) '50_1000'\n",
    "model_names={'nn':'NN','xgb':'XGB','lstm':'LSTM','bilstm':'biLSTM'}\n",
    "test_set=pd.read_csv(f\"{PATH_TO_CSV}{name}_test_{suffix}.csv\")\n",
    "Yt=test_set['dna_binding'].values\n",
    "for i, model in enumerate(models):\n",
    "    if model in [\"lstm\",\"bilstm\"]:\n",
    "        n_i=best_cross_val(model,name,suffix)\n",
    "        pred=np.load(f'{PATH_TO_RESULTS}results_{model}_orig_{name}_{suffix}_{n_i}.npy')\n",
    "    else:\n",
    "        pred=np.load(f'{PATH_TO_RESULTS}results_{model}_{name}_{suffix}.npy')\n",
    "    \n",
    "    \n",
    "    if model==\"nn\":\n",
    "        acc,mcc,auc,aver_precision_score=ACC_MCC_AUC_AP(pred,Yt)\n",
    "        results.append(('ACC',acc,f'{model_names[model]}'))\n",
    "        results.append(('MCC',mcc,f'{model_names[model]}'))\n",
    "    else:\n",
    "        for label,score in zip(['ACC','MCC','ROC AUC','AP'],ACC_MCC_AUC_AP(pred,Yt)):\n",
    "            results.append((label,score,f'{model_names[model]}'))\n",
    "df_results=pd.DataFrame(data=results,columns=['Metric','Score','Model'])\n",
    "plots = sns.barplot(data=df_results,x='Metric',y='Score',hue='Model')\n",
    "for bar in plots.patches: \n",
    "    plots.annotate(format(bar.get_height(), '.2f'),  \n",
    "                   (bar.get_x() + bar.get_width() / 2,  \n",
    "                    bar.get_height()), ha='center', va='center', \n",
    "                   size=7, xytext=(0, 8), \n",
    "                   textcoords='offset points')\n",
    "plt.legend(bbox_to_anchor=(1, 1), loc='upper left',title='Model')\n",
    "plt.ylim([0,1.05])"
   ]
  },
  {
   "cell_type": "code",
   "execution_count": 12,
   "metadata": {},
   "outputs": [
    {
     "data": {
      "text/plain": [
       "(0.0, 1.05)"
      ]
     },
     "execution_count": 12,
     "metadata": {},
     "output_type": "execute_result"
    },
    {
     "data": {
      "image/png": "[encoded data removed]",
      "text/plain": [
       "<Figure size 432x288 with 1 Axes>"
      ]
     },
     "metadata": {},
     "output_type": "display_data"
    }
   ],
   "source": [
    "#figure 1d)\n",
    "models=['nn','lstm','bilstm','xgb']\n",
    "results=[]\n",
    "name=\"random\"\n",
    "suffix=\"50_1000\"\n",
    "model_names={'nn':'NN','xgb':'XGB','lstm':'LSTM','bilstm':'biLSTM'}\n",
    "test_set=pd.read_csv(f\"{PATH_TO_CSV}{name}_test_{suffix}.csv\")\n",
    "Yt=test_set['dna_binding'].values\n",
    "for i, model in enumerate(models):\n",
    "    if model in [\"lstm\",\"bilstm\"]:\n",
    "        n_i=best_cross_val(model,name,suffix)\n",
    "        pred=np.load(f'{PATH_TO_RESULTS}results_{model}_orig_{name}_{suffix}_{n_i}.npy')\n",
    "    else:\n",
    "        pred=np.load(f'{PATH_TO_RESULTS}results_{model}_{name}_{suffix}.npy')\n",
    "    \n",
    "    \n",
    "    if model==\"nn\":\n",
    "        acc,mcc,auc,aver_precision_score=ACC_MCC_AUC_AP(pred,Yt)\n",
    "        results.append(('ACC',acc,f'{model_names[model]}','RS&LL'))\n",
    "        results.append(('MCC',mcc,f'{model_names[model]}','RS&LL'))\n",
    "    else:\n",
    "        for label,score in zip(['ACC','MCC','AUC','AP'],ACC_MCC_AUC_AP(pred,Yt)):\n",
    "            results.append((label,score,f'{model_names[model]}','RS&LL'))\n",
    "\n",
    "models=['nn','lstm','bilstm','xgb']\n",
    "name=\"random\"\n",
    "suffix=\"50\"\n",
    "model_names={'nn':'NN','xgb':'XGB','lstm':'LSTM','bilstm':'biLSTM'}\n",
    "test_set=pd.read_csv(f\"{PATH_TO_CSV}{name}_test_{suffix}.csv\")\n",
    "Yt=test_set['dna_binding'].values\n",
    "Yt_len=test_set['Length'].values\n",
    "mask=Yt_len<=1000\n",
    "for i, model in enumerate(models):\n",
    "    if model in [\"lstm\",\"bilstm\"]:\n",
    "        n_i=best_cross_val(model,name,suffix)\n",
    "        pred=np.load(f'{PATH_TO_RESULTS}results_{model}_orig_{name}_{suffix}_{n_i}.npy')\n",
    "    else:\n",
    "        pred=np.load(f'{PATH_TO_RESULTS}results_{model}_{name}_{suffix}.npy')\n",
    "    \n",
    "    if model==\"nn\":\n",
    "        acc,mcc,auc,aver_precision_score=ACC_MCC_AUC_AP(pred[mask],Yt[mask])\n",
    "        results.append(('ACC',acc,f'{model_names[model]}','RSL'))\n",
    "        results.append(('MCC',mcc,f'{model_names[model]}','RSL'))\n",
    "    else:\n",
    "        for label,score in zip(['ACC','MCC','AUC','AP'],ACC_MCC_AUC_AP(pred[mask],Yt[mask])):\n",
    "            results.append((label,score,f'{model_names[model]}','RSL'))\n",
    "df_results=pd.DataFrame(data=results,columns=['Metric','Score','Model','Training Set'])\n",
    "plots = sns.barplot(data=df_results[df_results['Metric']=='MCC'],x='Model',y='Score',hue='Training Set',\n",
    "                    palette=[(0.5058823529411764, 0.4470588235294118, 0.7019607843137254),\n",
    "                             (0.39215686274509803, 0.7098039215686275, 0.803921568627451)])\n",
    "for bar in plots.patches:  \n",
    "    plots.annotate(format(bar.get_height(), '.2f'),  \n",
    "                   (bar.get_x() + bar.get_width() / 2,  \n",
    "                    bar.get_height()), ha='center', va='center', \n",
    "                   size=10, xytext=(0, 8), \n",
    "                   textcoords='offset points')\n",
    "plt.legend(bbox_to_anchor=(1, 1), loc='upper left',title='Training Set')\n",
    "plt.ylabel('MCC')\n",
    "plt.ylim([0,1.05])"
   ]
  },
  {
   "cell_type": "code",
   "execution_count": null,
   "metadata": {},
   "outputs": [],
   "source": [
    "#Used in figure 2\n",
    "test_set=pd.read_csv(f'{PATH_TO_CSV}random_test_50_1000.csv')\n",
    "pred1=np.load(f'{PATH_TO_RESULTS}results_xgb_random_50_1000.npy')\n",
    "pred2=np.load(f'{PATH_TO_RESULTS}results_nn_random_50_1000.npy')\n",
    "pred3=np.load(f'{PATH_TO_RESULTS}results_lstm_orig_random_50_1000_3.npy')\n",
    "pred4=np.load(f'{PATH_TO_RESULTS}results_bilstm_orig_random_50_1000_2.npy')\n",
    "test_set['xgb_pred']=pred1\n",
    "test_set['nn_pred']=pred2\n",
    "test_set['lstm_pred']=pred3\n",
    "test_set['bilstm_pred']=pred4\n",
    "test_set_dbd_flip=pd.read_csv(f'{PATH_TO_CSV}random_test_50_1000_dbd_flip.csv')\n",
    "pred1=np.load(f'{PATH_TO_RESULTS}results_xgb_random_dbd_flip.npy')\n",
    "pred2=np.load(f'{PATH_TO_RESULTS}results_nn_random_50_1000_dbd_flip.npy')\n",
    "pred3=np.load(f'{PATH_TO_RESULTS}results_lstm_orig_random_50_1000_dbd_flip_3.npy')\n",
    "pred4=np.load(f'{PATH_TO_RESULTS}results_bilstm_orig_random_50_1000_dbd_flip_2.npy')\n",
    "test_set_dbd_flip['xgb_pred_flip']=pred1\n",
    "test_set_dbd_flip['nn_pred_flip']=pred2\n",
    "test_set_dbd_flip['lstm_pred_flip']=pred3\n",
    "test_set_dbd_flip['bilstm_pred_flip']=pred4\n",
    "test_set_random_flip=pd.read_csv(f'{PATH_TO_CSV}random_test_50_1000_random_flip.csv')\n",
    "pred1=np.load(f'{PATH_TO_RESULTS}results_xgb_random_random_flip.npy')\n",
    "pred2=np.load(f'{PATH_TO_RESULTS}results_nn_random_random_flip.npy')\n",
    "pred3=np.load(f'{PATH_TO_RESULTS}results_lstm_orig_random_50_1000_random_flip_3.npy')\n",
    "pred4=np.load(f'{PATH_TO_RESULTS}results_bilstm_orig_random_50_1000_random_flip_2.npy')\n",
    "test_set_random_flip['xgb_pred_rand']=pred1\n",
    "test_set_random_flip['nn_pred_rand']=pred2\n",
    "test_set_random_flip['lstm_pred_rand']=pred3\n",
    "test_set_random_flip['bilstm_pred_rand']=pred4\n",
    "test_set_not_dbd_flip=pd.read_csv(f'{PATH_TO_CSV}random_test_50_1000_not_dbd_flip.csv')\n",
    "pred1=np.load(f'{PATH_TO_RESULTS}results_xgb_random_not_dbd_flip.npy')\n",
    "pred2=np.load(f'{PATH_TO_RESULTS}results_nn_random_not_dbd_flip.npy')\n",
    "pred3=np.load(f'{PATH_TO_RESULTS}results_lstm_orig_random_50_1000_not_dbd_flip_3.npy')\n",
    "pred4=np.load(f'{PATH_TO_RESULTS}results_bilstm_orig_random_50_1000_not_dbd_flip_2.npy')\n",
    "test_set_not_dbd_flip['xgb_pred_not_dbd']=pred1\n",
    "test_set_not_dbd_flip['nn_pred_not_dbd']=pred2\n",
    "test_set_not_dbd_flip['lstm_pred_not_dbd']=pred3\n",
    "test_set_not_dbd_flip['bilstm_pred_not_dbd']=pred4\n",
    "test_set_dbd_flip['original_entry']=[i.split('_')[0] for i in test_set_dbd_flip['Entry'].values]\n",
    "test_set_random_flip['original_entry']=[i.split('_')[0] for i in test_set_random_flip['Entry'].values]\n",
    "test_set_not_dbd_flip['original_entry']=[i.split('_')[0] for i in test_set_not_dbd_flip['Entry'].values]\n",
    "df=pd.merge(test_set_dbd_flip,test_set,left_on='original_entry',right_on='Entry')\n",
    "df=pd.merge(df,test_set_random_flip,on='original_entry')\n",
    "df=pd.merge(df,test_set_not_dbd_flip,on='original_entry')"
   ]
  },
  {
   "cell_type": "code",
   "execution_count": null,
   "metadata": {},
   "outputs": [],
   "source": [
    "model='lstm' #Figure 2 a) 'nn' b) 'lstm' c) 'bilstm' d) 'xgb'\n",
    "T=np.linspace(0,1,1001)\n",
    "original=np.zeros(1001)\n",
    "dbd=np.zeros(1001)\n",
    "not_dbd=np.zeros(1001)\n",
    "random=np.zeros(1001)\n",
    "N=df.shape[0]\n",
    "for i,t in enumerate(T):\n",
    "    original[i]=np.sum(df[f'{model}_pred'].values>=t)/N\n",
    "    dbd[i]=np.sum(df[f'{model}_pred_flip'].values>=t)/N\n",
    "    random[i]=np.sum(df[f'{model}_pred_rand'].values>=t)/N\n",
    "    not_dbd[i]=np.sum(df[f'{model}_pred_not_dbd'].values>=t)/N\n",
    "plt.plot(T,original,linewidth=2,linestyle='-')\n",
    "plt.plot(T,dbd,linewidth=2,linestyle='--')\n",
    "plt.plot(T,random,linewidth=2,linestyle='-.')\n",
    "plt.plot(T,not_dbd,linewidth=2,linestyle='dotted')\n",
    "plt.ylabel(\"Recall*\")\n",
    "plt.ylim([-.05,1.05])\n",
    "plt.xlabel(\"Threshold\")\n",
    "plt.legend([\"Original\",\"DBR flipped\",\"Random region flipped\",\"Everything but DBR flipped\"])"
   ]
  },
  {
   "cell_type": "code",
   "execution_count": null,
   "metadata": {},
   "outputs": [],
   "source": [
    "# Used in figure 3\n",
    "# Need to run 'make_data_for_species_test.py' before this code\n",
    "models=['nn','xgb']\n",
    "model_names={'nn':'NN','xgb':'XGB'}\n",
    "names=['ecoli','sal','staph','tb','bacs','strepy',\"bacc\",\"strepn\"]\n",
    "results=[]\n",
    "train_label={'euk':'Eukaryotes','bac':'Bacteria','all':'Eukaryotes/Bacteria'}\n",
    "for model in models:\n",
    "    for suffix in ['bac','euk','all']:\n",
    "        for name in names:\n",
    "            if suffix=='all':\n",
    "                test_set=pd.read_csv(f\"{PATH_TO_CSV}{name}_test_bac.csv\")\n",
    "            else:\n",
    "                test_set=pd.read_csv(f\"{PATH_TO_CSV}{name}_test_{suffix}.csv\")\n",
    "            Yt=test_set['dna_binding'].values\n",
    "            pred=np.load(f'{PATH_TO_RESULTS}results_{model}_{name}_{suffix}.npy')\n",
    "            if model=='xgb':\n",
    "                thres=.5\n",
    "                for label,score in zip(['ACC','MCC','AUC','AP'],ACC_MCC_AUC_AP(pred,Yt,thres)):\n",
    "                    results.append((name,train_label[suffix],label,score,f'{model_names[model]}'))\n",
    "                for label,score in zip(['Precision','Recall'],percision_recall(pred,Yt,thres)):\n",
    "                    results.append((name,train_label[suffix],label,score,f'{model_names[model]}'))\n",
    "            else:\n",
    "                for label,score in zip(['ACC','MCC','AUC','AP'],ACC_MCC_AUC_AP(pred,Yt,.5)):\n",
    "                    results.append((name,train_label[suffix],label,score,model_names[model]))\n",
    "                for label,score in zip(['Precision','Recall'],percision_recall(pred,Yt,.5)):\n",
    "                    results.append((name,train_label[suffix],label,score,model_names[model]))\n",
    "df_results=pd.DataFrame(data=results,columns=['Species' ,'Training Set','Metric','Score','Model'])"
   ]
  },
  {
   "cell_type": "code",
   "execution_count": null,
   "metadata": {},
   "outputs": [],
   "source": [
    "#Figure 3a)\n",
    "sns.boxplot(data=df_results[df_results['Metric']=='MCC'],hue='Model',\n",
    "            y='Score',x='Training Set',palette=[(0.2980392156862745, 0.4470588235294118, 0.6901960784313725),\n",
    "                                               (0.7686274509803922, 0.3058823529411765, 0.3215686274509804)])\n",
    "plt.ylim([0,1.05])\n",
    "plt.ylabel(\"MCC\")"
   ]
  },
  {
   "cell_type": "code",
   "execution_count": null,
   "metadata": {},
   "outputs": [],
   "source": [
    "#Figure 3b)\n",
    "sns.boxplot(data=df_results[df_results['Metric']=='Precision'],hue='Model',\n",
    "            y='Score',x='Training Set',palette=[(0.2980392156862745, 0.4470588235294118, 0.6901960784313725),\n",
    "                                               (0.7686274509803922, 0.3058823529411765, 0.3215686274509804)])\n",
    "plt.ylim([0,1.05])\n",
    "plt.ylabel(\"Precision\")"
   ]
  },
  {
   "cell_type": "code",
   "execution_count": null,
   "metadata": {},
   "outputs": [],
   "source": [
    "#Figure 3c)\n",
    "sns.boxplot(data=df_results[df_results['Metric']=='Recall'],hue='Model',\n",
    "            y='Score',x='Training Set',palette=[(0.2980392156862745, 0.4470588235294118, 0.6901960784313725),\n",
    "                                               (0.7686274509803922, 0.3058823529411765, 0.3215686274509804)])\n",
    "plt.ylim([0,1.05])\n",
    "plt.ylabel(\"Recall\")"
   ]
  },
  {
   "cell_type": "code",
   "execution_count": null,
   "metadata": {},
   "outputs": [],
   "source": [
    "#Figure 3d)\n",
    "sns.boxplot(data=df_results[np.logical_and(df_results['Model']=='XGB',df_results['Metric'].isin(['AP']))],hue='Model',\n",
    "            y='Score',x='Training Set',palette=[(0.7686274509803922, 0.3058823529411765, 0.3215686274509804)])\n",
    "plt.ylim([0,1.05])\n",
    "plt.ylabel(\"AP\")"
   ]
  },
  {
   "cell_type": "code",
   "execution_count": null,
   "metadata": {},
   "outputs": [],
   "source": [
    "# Used in figure 4\n",
    "# Need to run 'make_data_for_species_test.py' before this code\n",
    "models=['nn','xgb']\n",
    "names=['human','mouse_ear','mouse','rice','rat','yeast',\"frog\",\"fly\"]\n",
    "model_names={'nn':'NN','xgb':'XGB'}\n",
    "results=[]\n",
    "train_label={'euk':'Eukaryotes','bac':'Bacteria','all':'Eukaryotes/Bacteria'}\n",
    "for model in models:\n",
    "    for suffix in ['euk','bac','all']:\n",
    "        for name in names:\n",
    "            if suffix=='all':\n",
    "                test_set=pd.read_csv(f\"{PATH_TO_CSV}{name}_test_euk.csv\")\n",
    "            else:\n",
    "                test_set=pd.read_csv(f\"{PATH_TO_CSV}{name}_test_{suffix}.csv\")\n",
    "            Yt=test_set['dna_binding'].values\n",
    "            pred=np.load(f'{PATH_TO_RESULTS}results_{model}_{name}_{suffix}.npy')\n",
    "            if model=='xgb':\n",
    "                thres=.5\n",
    "                for label,score in zip(['ACC','MCC','AUC','AP'],ACC_MCC_AUC_AP(pred,Yt,thres)):\n",
    "                    results.append((name,train_label[suffix],label,score,f'{model_names[model]}'))\n",
    "                for label,score in zip(['Precision','Recall'],percision_recall(pred,Yt,thres)):\n",
    "                    results.append((name,train_label[suffix],label,score,f'{model_names[model]}'))\n",
    "            else:\n",
    "                for label,score in zip(['ACC','MCC','AUC','AP'],ACC_MCC_AUC_AP(pred,Yt,.5)):\n",
    "                    results.append((name,train_label[suffix],label,score,model_names[model]))\n",
    "                for label,score in zip(['Precision','Recall'],percision_recall(pred,Yt,.5)):\n",
    "                    results.append((name,train_label[suffix],label,score,model_names[model]))\n",
    "df_results=pd.DataFrame(data=results,columns=['Species' ,'Training Set','Metric','Score','Model'])"
   ]
  },
  {
   "cell_type": "code",
   "execution_count": null,
   "metadata": {},
   "outputs": [],
   "source": [
    "# Figure 4a)\n",
    "sns.boxplot(data=df_results[df_results['Metric']=='MCC'],hue='Model',\n",
    "            y='Score',x='Training Set',palette=[(0.2980392156862745, 0.4470588235294118, 0.6901960784313725),\n",
    "                                               (0.7686274509803922, 0.3058823529411765, 0.3215686274509804)])\n",
    "plt.ylim([0,1.05])\n",
    "plt.ylabel(\"MCC\")"
   ]
  },
  {
   "cell_type": "code",
   "execution_count": null,
   "metadata": {},
   "outputs": [],
   "source": [
    "# Figure 4b)\n",
    "sns.boxplot(data=df_results[df_results['Metric']=='Precision'],hue='Model',\n",
    "            y='Score',x='Training Set',palette=[(0.2980392156862745, 0.4470588235294118, 0.6901960784313725),\n",
    "                                               (0.7686274509803922, 0.3058823529411765, 0.3215686274509804)])\n",
    "plt.ylim([0,1.05])\n",
    "plt.ylabel(\"Precision\")"
   ]
  },
  {
   "cell_type": "code",
   "execution_count": null,
   "metadata": {},
   "outputs": [],
   "source": [
    "#Figure 4c)\n",
    "sns.boxplot(data=df_results[df_results['Metric']=='Recall'],hue='Model',\n",
    "            y='Score',x='Training Set',palette=[(0.2980392156862745, 0.4470588235294118, 0.6901960784313725),\n",
    "                                               (0.7686274509803922, 0.3058823529411765, 0.3215686274509804)])\n",
    "plt.ylim([0,1.05])\n",
    "plt.ylabel(\"Recall\")"
   ]
  },
  {
   "cell_type": "code",
   "execution_count": null,
   "metadata": {},
   "outputs": [],
   "source": [
    "#Figure 4d)\n",
    "sns.boxplot(data=df_results[np.logical_and(df_results['Model']=='XGB',df_results['Metric'].isin(['AP']))],hue='Model',\n",
    "            y='Score',x='Training Set',palette=[(0.7686274509803922, 0.3058823529411765, 0.3215686274509804)])\n",
    "plt.ylim([0,1.05])\n",
    "plt.ylabel(\"AP\")"
   ]
  }
 ],
 "metadata": {
  "kernelspec": {
   "display_name": "Python 3",
   "language": "python",
   "name": "python3"
  },
  "language_info": {
   "codemirror_mode": {
    "name": "ipython",
    "version": 3
   },
   "file_extension": ".py",
   "mimetype": "text/x-python",
   "name": "python",
   "nbconvert_exporter": "python",
   "pygments_lexer": "ipython3",
   "version": "3.7.7"
  }
 },
 "nbformat": 4,
 "nbformat_minor": 2
}
