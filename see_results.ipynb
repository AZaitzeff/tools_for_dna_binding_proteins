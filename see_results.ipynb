{
 "cells": [
  {
   "cell_type": "code",
   "execution_count": 1,
   "metadata": {},
   "outputs": [],
   "source": [
    "import numpy as np\n",
    "from sklearn.metrics import roc_auc_score, average_precision_score,roc_curve,precision_recall_curve\n",
    "import pandas as pd\n",
    "PATH_TO_RESULTS='results/'\n",
    "PATH_TO_CSV='data/'"
   ]
  },
  {
   "cell_type": "code",
   "execution_count": 2,
   "metadata": {},
   "outputs": [],
   "source": [
    "def MCC(predictions,Yt):\n",
    "    thres=.5\n",
    "    tp=np.sum((predictions>=thres)*Yt)\n",
    "    fp=np.sum((predictions>=thres)*(1-Yt))\n",
    "    tn=np.sum((predictions<thres)*(1-Yt))\n",
    "    fn=np.sum((predictions<thres)*Yt)\n",
    "    mcc=(tp*tn-fp*fn)/np.sqrt((tp+fp)*(tp+fn)*(tn+fp)*(tn+fn))\n",
    "    return mcc"
   ]
  },
  {
   "cell_type": "code",
   "execution_count": 3,
   "metadata": {},
   "outputs": [],
   "source": [
    "def F1_score(predictions,Yt):\n",
    "    thres=.5\n",
    "    tp=np.sum((predictions>=thres)*Yt)\n",
    "    fp=np.sum((predictions>=thres)*(1-Yt))\n",
    "    tn=np.sum((predictions<thres)*(1-Yt))\n",
    "    fn=np.sum((predictions<thres)*Yt)\n",
    "    f1=(2*tp)/(2*tp+fn+fp)\n",
    "    return f1"
   ]
  },
  {
   "cell_type": "code",
   "execution_count": 4,
   "metadata": {},
   "outputs": [],
   "source": [
    "\n",
    "def ACC_F1_AUC_AP(predictions,Yt):\n",
    "    mask= np.logical_not(np.isnan(predictions))\n",
    "    predictions=predictions[mask]\n",
    "    Yt=Yt[mask]\n",
    "    thres=.5\n",
    "    tpr=np.sum((predictions>=thres)*Yt)/np.sum(Yt)\n",
    "    tnr=np.sum((predictions<thres)*(1-Yt))/np.sum(1-Yt)\n",
    "    f1_score=round(F1_score(predictions,Yt),3)\n",
    "    acc=round(np.sum((predictions>=thres)==Yt)/len(Yt),3)\n",
    "    try:\n",
    "        roc_auc=round(roc_auc_score(Yt,predictions),3)\n",
    "    except:\n",
    "        roc_auc=0\n",
    "    try:\n",
    "        aver_precision_score=round(average_precision_score(Yt,predictions),3)\n",
    "    except:\n",
    "        aver_precision_score=0\n",
    "    return acc,f1_score,roc_auc,aver_precision_score"
   ]
  },
  {
   "cell_type": "code",
   "execution_count": null,
   "metadata": {},
   "outputs": [],
   "source": []
  },
  {
   "cell_type": "code",
   "execution_count": 5,
   "metadata": {},
   "outputs": [],
   "source": [
    "good_species=['escherichia_coli', 'mycobacterium_tuberculosis']\n",
    "#used in generating table 1\n",
    "name = good_species[0] #change this to see the ammounts of the different species\n",
    "test_set=pd.read_csv(f\"{PATH_TO_CSV}{name}_test_full.csv\")\n",
    "train_set=pd.read_csv(f\"{PATH_TO_CSV}{name}_train_full.csv\")\n",
    "valid_set=pd.read_csv(f\"{PATH_TO_CSV}{name}_valid_full.csv\")\n",
    "    \n",
    "nums=np.zeros(6)\n",
    "nums[0]=np.sum(train_set['dna_binding'])\n",
    "nums[1]=np.sum(1-train_set['dna_binding'])\n",
    "nums[2]=np.sum(test_set['dna_binding'])\n",
    "nums[3]=np.sum(1-test_set['dna_binding'])\n",
    "nums[4]=np.sum(valid_set['dna_binding'])\n",
    "nums[5]=np.sum(1-valid_set['dna_binding'])"
   ]
  },
  {
   "cell_type": "code",
   "execution_count": 6,
   "metadata": {},
   "outputs": [
    {
     "data": {
      "text/plain": [
       "array([ 17546., 217288.,    836.,   7109.,    425.,   2997.])"
      ]
     },
     "execution_count": 6,
     "metadata": {},
     "output_type": "execute_result"
    }
   ],
   "source": [
    "nums"
   ]
  },
  {
   "cell_type": "code",
   "execution_count": null,
   "metadata": {},
   "outputs": [],
   "source": []
  },
  {
   "cell_type": "code",
   "execution_count": 22,
   "metadata": {},
   "outputs": [],
   "source": [
    "# used in generating the results table\n",
    "good_species=['escherichia_coli', 'mycobacterium_tuberculosis']\n",
    "models=['nn','cnn','lstm','bilstm','xgb']\n",
    "total_results=np.zeros((len(models),4))\n",
    "valid='Bacillus subtilis'\n",
    "name=good_species[1] #change this to see the results of the different species\n",
    "test_set=pd.read_csv(f\"{PATH_TO_CSV}{name}_test_50.csv\")\n",
    "Yt=test_set['dna_binding'].values\n",
    "for i, model in enumerate(models):\n",
    "    \n",
    "    \n",
    "    pred=np.load(f'{PATH_TO_RESULTS}results_{model}_{name}_50.npy')\n",
    "    acc,f1score,auc,aver_precision_score=ACC_F1_AUC_AP(pred,Yt)\n",
    "    \n",
    "    total_results[i,0]=acc\n",
    "    total_results[i,1]=f1score\n",
    "    total_results[i,2]=auc\n",
    "    total_results[i,3]=aver_precision_score"
   ]
  },
  {
   "cell_type": "code",
   "execution_count": 23,
   "metadata": {},
   "outputs": [],
   "source": [
    "model_names=[\"NN\",'CNN','LSTM','BILSTM','XGB']\n",
    "df_result=pd.DataFrame(data=total_results,index=model_names,\n",
    "                 columns=['ACC','F1 Score', 'AUC','AP'])"
   ]
  },
  {
   "cell_type": "code",
   "execution_count": 24,
   "metadata": {},
   "outputs": [
    {
     "data": {
      "text/html": [
       "<div>\n",
       "<style scoped>\n",
       "    .dataframe tbody tr th:only-of-type {\n",
       "        vertical-align: middle;\n",
       "    }\n",
       "\n",
       "    .dataframe tbody tr th {\n",
       "        vertical-align: top;\n",
       "    }\n",
       "\n",
       "    .dataframe thead th {\n",
       "        text-align: right;\n",
       "    }\n",
       "</style>\n",
       "<table border=\"1\" class=\"dataframe\">\n",
       "  <thead>\n",
       "    <tr style=\"text-align: right;\">\n",
       "      <th></th>\n",
       "      <th>ACC</th>\n",
       "      <th>F1 Score</th>\n",
       "      <th>AUC</th>\n",
       "      <th>AP</th>\n",
       "    </tr>\n",
       "  </thead>\n",
       "  <tbody>\n",
       "    <tr>\n",
       "      <th>NN</th>\n",
       "      <td>0.958</td>\n",
       "      <td>0.787</td>\n",
       "      <td>0.881</td>\n",
       "      <td>0.641</td>\n",
       "    </tr>\n",
       "    <tr>\n",
       "      <th>CNN</th>\n",
       "      <td>0.920</td>\n",
       "      <td>0.641</td>\n",
       "      <td>0.933</td>\n",
       "      <td>0.710</td>\n",
       "    </tr>\n",
       "    <tr>\n",
       "      <th>LSTM</th>\n",
       "      <td>0.921</td>\n",
       "      <td>0.628</td>\n",
       "      <td>0.906</td>\n",
       "      <td>0.663</td>\n",
       "    </tr>\n",
       "    <tr>\n",
       "      <th>BILSTM</th>\n",
       "      <td>0.825</td>\n",
       "      <td>0.371</td>\n",
       "      <td>0.835</td>\n",
       "      <td>0.347</td>\n",
       "    </tr>\n",
       "    <tr>\n",
       "      <th>XGB</th>\n",
       "      <td>0.951</td>\n",
       "      <td>0.768</td>\n",
       "      <td>0.979</td>\n",
       "      <td>0.877</td>\n",
       "    </tr>\n",
       "  </tbody>\n",
       "</table>\n",
       "</div>"
      ],
      "text/plain": [
       "          ACC  F1 Score    AUC     AP\n",
       "NN      0.958     0.787  0.881  0.641\n",
       "CNN     0.920     0.641  0.933  0.710\n",
       "LSTM    0.921     0.628  0.906  0.663\n",
       "BILSTM  0.825     0.371  0.835  0.347\n",
       "XGB     0.951     0.768  0.979  0.877"
      ]
     },
     "execution_count": 24,
     "metadata": {},
     "output_type": "execute_result"
    }
   ],
   "source": [
    "df_result"
   ]
  },
  {
   "cell_type": "code",
   "execution_count": 21,
   "metadata": {},
   "outputs": [
    {
     "data": {
      "text/plain": [
       "'\\\\begin{tabular}{lrrrr}\\n\\\\toprule\\n{} &    ACC &  F1 Score &  AUC &     AP \\\\\\\\\\n\\\\midrule\\nNN     &  0.901 &       0.0 &  0.5 &  0.099 \\\\\\\\\\nLSTM   &  0.901 &       0.0 &  0.5 &  0.099 \\\\\\\\\\nBILSTM &  0.901 &       0.0 &  0.5 &  0.099 \\\\\\\\\\nCNN    &  0.901 &       0.0 &  0.5 &  0.099 \\\\\\\\\\nXGB    &  0.901 &       0.0 &  0.5 &  0.099 \\\\\\\\\\n\\\\bottomrule\\n\\\\end{tabular}\\n'"
      ]
     },
     "execution_count": 21,
     "metadata": {},
     "output_type": "execute_result"
    }
   ],
   "source": [
    "df_result.to_latex()"
   ]
  }
 ],
 "metadata": {
  "kernelspec": {
   "display_name": "Python 3",
   "language": "python",
   "name": "python3"
  },
  "language_info": {
   "codemirror_mode": {
    "name": "ipython",
    "version": 3
   },
   "file_extension": ".py",
   "mimetype": "text/x-python",
   "name": "python",
   "nbconvert_exporter": "python",
   "pygments_lexer": "ipython3",
   "version": "3.7.7"
  }
 },
 "nbformat": 4,
 "nbformat_minor": 2
}
